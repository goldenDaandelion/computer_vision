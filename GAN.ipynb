{
  "nbformat": 4,
  "nbformat_minor": 0,
  "metadata": {
    "colab": {
      "provenance": [],
      "collapsed_sections": [],
      "authorship_tag": "ABX9TyMNMc7mSvmBlC2zszkiOeTl"
    },
    "kernelspec": {
      "name": "python3",
      "display_name": "Python 3"
    },
    "language_info": {
      "name": "python"
    },
    "accelerator": "GPU"
  },
  "cells": [
    {
      "cell_type": "code",
      "execution_count": 47,
      "metadata": {
        "colab": {
          "base_uri": "https://localhost:8080/",
          "height": 35
        },
        "id": "c319ANGmifE4",
        "outputId": "b032ddf7-e59f-4b92-fba4-d0e0656e8b86"
      },
      "outputs": [
        {
          "output_type": "execute_result",
          "data": {
            "text/plain": [
              "'2.8.2'"
            ],
            "application/vnd.google.colaboratory.intrinsic+json": {
              "type": "string"
            }
          },
          "metadata": {},
          "execution_count": 47
        }
      ],
      "source": [
        "import tensorflow as tf\n",
        "# tf.enable_eager_execution()\n",
        "tf.__version__"
      ]
    },
    {
      "cell_type": "code",
      "source": [
        "import tensorflow_datasets as tfds\n",
        "import numpy as np\n",
        "from matplotlib import pyplot as plt"
      ],
      "metadata": {
        "id": "H-lbFrfpii3z"
      },
      "execution_count": 48,
      "outputs": []
    },
    {
      "cell_type": "code",
      "source": [
        "ds = tfds.load('fashion_mnist', split='train')"
      ],
      "metadata": {
        "id": "aSVrs-lqk8jU"
      },
      "execution_count": 49,
      "outputs": []
    },
    {
      "cell_type": "code",
      "source": [
        "(train_images, _), (_, _) = tf.keras.datasets.mnist.load_data()\n",
        "train_images = train_images / 255\n",
        "ds = tf.data.Dataset.from_tensor_slices(train_images).shuffle(60000).batch(300)"
      ],
      "metadata": {
        "id": "80kUJxdmii7N"
      },
      "execution_count": 50,
      "outputs": []
    },
    {
      "cell_type": "code",
      "source": [
        "def show(df):\n",
        "  fig, ax = plt.subplots(ncols = 5, figsize = (10,10))\n",
        "  for idx in range(5): \n",
        "      sample = df[idx]\n",
        "      ax[idx].imshow(sample)\n",
        "      ax[idx].title.set_text(idx)"
      ],
      "metadata": {
        "id": "Hqzmp2m_ijBh"
      },
      "execution_count": 51,
      "outputs": []
    },
    {
      "cell_type": "code",
      "source": [
        "show(train_images)"
      ],
      "metadata": {
        "colab": {
          "base_uri": "https://localhost:8080/",
          "height": 160
        },
        "id": "ZlVXNYQvn0vR",
        "outputId": "cb5ade56-1006-4ca6-9c52-bdfeacc1bbd0"
      },
      "execution_count": 52,
      "outputs": [
        {
          "output_type": "display_data",
          "data": {
            "text/plain": [
              "<Figure size 720x720 with 5 Axes>"
            ],
            "image/png": "[encoded data removed]"
          },
          "metadata": {
            "needs_background": "light"
          }
        }
      ]
    },
    {
      "cell_type": "code",
      "source": [
        "from tensorflow.keras.models import Sequential\n",
        "from tensorflow.keras.layers import Conv2D, Dense, Flatten, Reshape, LeakyReLU, Dropout, UpSampling2D , BatchNormalization , Conv2DTranspose\n",
        "import tensorflow as tf\n",
        "def generator():\n",
        "    model = tf.keras.Sequential()\n",
        "    model.add(Dense(7*7*100, use_bias=False,  input_shape = (100,)))\n",
        "    model.add(BatchNormalization())\n",
        "    model.add(LeakyReLU())\n",
        "\n",
        "    model.add(Reshape((7, 7, 100)))\n",
        "    assert model.output_shape == (None, 7, 7, 100)  # Note: None is the batch size\n",
        "\n",
        "    model.add(Conv2DTranspose(64, (5, 5), strides=(1, 1), padding='same', use_bias=False))\n",
        "    assert model.output_shape == (None, 7, 7, 64)\n",
        "    model.add(BatchNormalization())\n",
        "    model.add(LeakyReLU())\n",
        "\n",
        "    model.add(Conv2DTranspose(32, (5, 5), strides=(2, 2), padding='same', use_bias=False))\n",
        "    assert model.output_shape == (None, 14, 14, 32)\n",
        "    model.add(BatchNormalization())\n",
        "    model.add(LeakyReLU())\n",
        "\n",
        "    model.add(Conv2DTranspose(1, (5, 5), strides=(2, 2), padding='same', use_bias=False, activation='tanh'))\n",
        "    assert model.output_shape == (None, 28, 28, 1)\n",
        "\n",
        "    return model"
      ],
      "metadata": {
        "id": "r6ZieLxvijXp"
      },
      "execution_count": 53,
      "outputs": []
    },
    {
      "cell_type": "code",
      "source": [
        "generator = generator()\n",
        "generator.summary()"
      ],
      "metadata": {
        "colab": {
          "base_uri": "https://localhost:8080/"
        },
        "id": "j86YAe9RmQDf",
        "outputId": "150f9cac-94f1-4a0c-d4dc-dc8298dfb680"
      },
      "execution_count": 54,
      "outputs": [
        {
          "output_type": "stream",
          "name": "stdout",
          "text": [
            "Model: \"sequential_4\"\n",
            "_________________________________________________________________\n",
            " Layer (type)                Output Shape              Param #   \n",
            "=================================================================\n",
            " dense_4 (Dense)             (None, 4900)              490000    \n",
            "                                                                 \n",
            " batch_normalization_6 (Batc  (None, 4900)             19600     \n",
            " hNormalization)                                                 \n",
            "                                                                 \n",
            " leaky_re_lu_10 (LeakyReLU)  (None, 4900)              0         \n",
            "                                                                 \n",
            " reshape_2 (Reshape)         (None, 7, 7, 100)         0         \n",
            "                                                                 \n",
            " conv2d_transpose_6 (Conv2DT  (None, 7, 7, 64)         160000    \n",
            " ranspose)                                                       \n",
            "                                                                 \n",
            " batch_normalization_7 (Batc  (None, 7, 7, 64)         256       \n",
            " hNormalization)                                                 \n",
            "                                                                 \n",
            " leaky_re_lu_11 (LeakyReLU)  (None, 7, 7, 64)          0         \n",
            "                                                                 \n",
            " conv2d_transpose_7 (Conv2DT  (None, 14, 14, 32)       51200     \n",
            " ranspose)                                                       \n",
            "                                                                 \n",
            " batch_normalization_8 (Batc  (None, 14, 14, 32)       128       \n",
            " hNormalization)                                                 \n",
            "                                                                 \n",
            " leaky_re_lu_12 (LeakyReLU)  (None, 14, 14, 32)        0         \n",
            "                                                                 \n",
            " conv2d_transpose_8 (Conv2DT  (None, 28, 28, 1)        800       \n",
            " ranspose)                                                       \n",
            "                                                                 \n",
            "=================================================================\n",
            "Total params: 721,984\n",
            "Trainable params: 711,992\n",
            "Non-trainable params: 9,992\n",
            "_________________________________________________________________\n"
          ]
        }
      ]
    },
    {
      "cell_type": "code",
      "source": [
        "generated_image = generator.predict(np.random.randn(5 , 100 , 1))"
      ],
      "metadata": {
        "id": "fkdFBeUSmQF5"
      },
      "execution_count": 55,
      "outputs": []
    },
    {
      "cell_type": "code",
      "source": [
        "def show2(df):\n",
        "  fig, ax = plt.subplots(ncols = 5, figsize = (10,10))\n",
        "  for idx, img in enumerate(df): \n",
        "      ax[idx].imshow(np.squeeze(img)) \n",
        "      ax[idx].title.set_text(idx)"
      ],
      "metadata": {
        "id": "yTg_VgMDox7e"
      },
      "execution_count": 56,
      "outputs": []
    },
    {
      "cell_type": "code",
      "source": [
        "show2(generated_image)"
      ],
      "metadata": {
        "colab": {
          "base_uri": "https://localhost:8080/",
          "height": 160
        },
        "id": "n2GWCcxzpM4v",
        "outputId": "5162cb2a-f62d-4bed-cf18-32204de4d407"
      },
      "execution_count": 57,
      "outputs": [
        {
          "output_type": "display_data",
          "data": {
            "text/plain": [
              "<Figure size 720x720 with 5 Axes>"
            ],
            "image/png": "[encoded data removed]"
          },
          "metadata": {
            "needs_background": "light"
          }
        }
      ]
    },
    {
      "cell_type": "code",
      "source": [
        "def discriminator():\n",
        "    model = tf.keras.Sequential()\n",
        "    model.add(Conv2D(64, (3,3), padding='same',input_shape=[28, 28, 1]))\n",
        "    model.add(LeakyReLU(0.3))\n",
        "    model.add(Dropout(0.3))\n",
        "\n",
        "    model.add(Conv2D(128, (5, 5), padding='same'))\n",
        "    model.add(LeakyReLU())\n",
        "    model.add(Dropout(0.3))\n",
        "\n",
        "    model.add(Flatten())\n",
        "    model.add(Dense(1))\n",
        "\n",
        "    return model"
      ],
      "metadata": {
        "id": "QHVrf6zvphdq"
      },
      "execution_count": 58,
      "outputs": []
    },
    {
      "cell_type": "code",
      "source": [
        "discriminator = discriminator()\n",
        "discriminator.summary()\n"
      ],
      "metadata": {
        "colab": {
          "base_uri": "https://localhost:8080/"
        },
        "id": "OrkBKP09qL-Z",
        "outputId": "4fea32cd-05bb-4d2a-ab4d-388e10eb0905"
      },
      "execution_count": 59,
      "outputs": [
        {
          "output_type": "stream",
          "name": "stdout",
          "text": [
            "Model: \"sequential_5\"\n",
            "_________________________________________________________________\n",
            " Layer (type)                Output Shape              Param #   \n",
            "=================================================================\n",
            " conv2d_4 (Conv2D)           (None, 28, 28, 64)        640       \n",
            "                                                                 \n",
            " leaky_re_lu_13 (LeakyReLU)  (None, 28, 28, 64)        0         \n",
            "                                                                 \n",
            " dropout_4 (Dropout)         (None, 28, 28, 64)        0         \n",
            "                                                                 \n",
            " conv2d_5 (Conv2D)           (None, 28, 28, 128)       204928    \n",
            "                                                                 \n",
            " leaky_re_lu_14 (LeakyReLU)  (None, 28, 28, 128)       0         \n",
            "                                                                 \n",
            " dropout_5 (Dropout)         (None, 28, 28, 128)       0         \n",
            "                                                                 \n",
            " flatten_2 (Flatten)         (None, 100352)            0         \n",
            "                                                                 \n",
            " dense_5 (Dense)             (None, 1)                 100353    \n",
            "                                                                 \n",
            "=================================================================\n",
            "Total params: 305,921\n",
            "Trainable params: 305,921\n",
            "Non-trainable params: 0\n",
            "_________________________________________________________________\n"
          ]
        }
      ]
    },
    {
      "cell_type": "code",
      "source": [
        "decision = discriminator(generated_image)\n",
        "print (decision)"
      ],
      "metadata": {
        "colab": {
          "base_uri": "https://localhost:8080/"
        },
        "id": "2t7auSRfqMBL",
        "outputId": "dce896a8-148b-4ada-ee27-58cbefbca8fe"
      },
      "execution_count": 60,
      "outputs": [
        {
          "output_type": "stream",
          "name": "stdout",
          "text": [
            "tf.Tensor(\n",
            "[[ 0.00037062]\n",
            " [-0.00490826]\n",
            " [-0.00291347]\n",
            " [-0.00014102]\n",
            " [-0.00507179]], shape=(5, 1), dtype=float32)\n"
          ]
        }
      ]
    },
    {
      "cell_type": "code",
      "source": [
        "loss = tf.keras.losses.BinaryCrossentropy(from_logits=True)\n",
        "\n",
        "g_opt = tf.keras.optimizers.Adam(0.05)\n",
        "d_opt = tf.keras.optimizers.Adam(0.05)"
      ],
      "metadata": {
        "id": "wrrelkzKqMEF"
      },
      "execution_count": 75,
      "outputs": []
    },
    {
      "cell_type": "code",
      "source": [
        "from tensorflow.keras.models import Model\n",
        "class customized(Model): \n",
        "    def __init__(self, generator, discriminator, *args, **kwargs):\n",
        "        super().__init__(*args, **kwargs)\n",
        "        self.generator = generator \n",
        "        self.discriminator = discriminator \n",
        "        \n",
        "    def compile(self, g_opt, d_opt, loss, *args, **kwargs): \n",
        "        super().compile(*args, **kwargs)\n",
        "        self.g_opt = g_opt\n",
        "        self.d_opt = d_opt\n",
        "        self.loss = loss\n",
        "\n",
        "    def train_step(self, batch):\n",
        "        real_images = batch\n",
        "        fake_images = self.generator(tf.random.normal((1 , 100)), training = False)\n",
        "        \n",
        "\n",
        "        with tf.GradientTape() as d_tape: \n",
        "            yhat_real = self.discriminator(real_images, training = True) \n",
        "            yhat_fake = self.discriminator(fake_images, training = True)\n",
        "            yhat_realfake = tf.concat([yhat_real, yhat_fake], axis=0)\n",
        "            \n",
        "    \n",
        "            y_realfake = tf.concat([tf.zeros_like(yhat_real), tf.ones_like(yhat_fake)], axis=0)\n",
        "            total_d_loss = self.loss(y_realfake, yhat_realfake)\n",
        "            \n",
        "        dgrad = d_tape.gradient(total_d_loss, self.discriminator.trainable_variables) \n",
        "        self.d_opt.apply_gradients(zip(dgrad, self.discriminator.trainable_variables))\n",
        "        \n",
        " \n",
        "        with tf.GradientTape() as g_tape: \n",
        "            gen_images = self.generator(tf.random.normal((1 , 100)), training = True)\n",
        "            predicted_labels = self.discriminator(gen_images, training = False)\n",
        "                                        \n",
        "            total_g_loss = self.loss(tf.zeros_like(predicted_labels), predicted_labels) \n",
        "            \n",
        "        ggrad = g_tape.gradient(total_g_loss, self.generator.trainable_variables)\n",
        "        self.g_opt.apply_gradients(zip(ggrad, self.generator.trainable_variables))\n",
        "        \n",
        "        return {\"d_loss\":total_d_loss, \"g_loss\":total_g_loss}"
      ],
      "metadata": {
        "id": "bx6GtZBGqMHF"
      },
      "execution_count": 76,
      "outputs": []
    },
    {
      "cell_type": "code",
      "source": [
        "fashgan = customized(generator, discriminator)"
      ],
      "metadata": {
        "id": "X4RDB4KKqMJ9"
      },
      "execution_count": 77,
      "outputs": []
    },
    {
      "cell_type": "code",
      "source": [
        "fashgan.compile(g_opt, d_opt, loss)"
      ],
      "metadata": {
        "id": "zmEJht6SqML0"
      },
      "execution_count": 78,
      "outputs": []
    },
    {
      "cell_type": "code",
      "source": [
        "hist = fashgan.fit(ds, epochs = 30)"
      ],
      "metadata": {
        "colab": {
          "base_uri": "https://localhost:8080/"
        },
        "id": "KUAi7YnVqMPW",
        "outputId": "292def17-04ac-4708-892a-1253ef1e01a4"
      },
      "execution_count": 79,
      "outputs": [
        {
          "output_type": "stream",
          "name": "stdout",
          "text": [
            "Epoch 1/30\n",
            "200/200 [==============================] - 11s 47ms/step - d_loss: 2.5609e-12 - g_loss: 1.2974e-30\n",
            "Epoch 2/30\n",
            "200/200 [==============================] - 10s 48ms/step - d_loss: 7.2088e-13 - g_loss: 2.8113e-31\n",
            "Epoch 3/30\n",
            "200/200 [==============================] - 10s 48ms/step - d_loss: 2.3618e-13 - g_loss: 1.0618e-31\n",
            "Epoch 4/30\n",
            "200/200 [==============================] - 10s 48ms/step - d_loss: 1.5812e-13 - g_loss: 7.1583e-32\n",
            "Epoch 5/30\n",
            "200/200 [==============================] - 10s 47ms/step - d_loss: 1.1498e-13 - g_loss: 5.2287e-32\n",
            "Epoch 6/30\n",
            "200/200 [==============================] - 10s 49ms/step - d_loss: 8.7070e-14 - g_loss: 4.0817e-32\n",
            "Epoch 7/30\n",
            "200/200 [==============================] - 10s 47ms/step - d_loss: 7.0034e-14 - g_loss: 3.2190e-32\n",
            "Epoch 8/30\n",
            "200/200 [==============================] - 9s 47ms/step - d_loss: 6.4645e-14 - g_loss: 2.6117e-32\n",
            "Epoch 9/30\n",
            "200/200 [==============================] - 10s 48ms/step - d_loss: 5.0859e-14 - g_loss: 2.2477e-32\n",
            "Epoch 10/30\n",
            "200/200 [==============================] - 10s 48ms/step - d_loss: 3.8422e-14 - g_loss: 1.9546e-32\n",
            "Epoch 11/30\n",
            "200/200 [==============================] - 10s 48ms/step - d_loss: 4.4335e-14 - g_loss: 1.7161e-32\n",
            "Epoch 12/30\n",
            "200/200 [==============================] - 10s 48ms/step - d_loss: 4.1550e-14 - g_loss: 1.4843e-32\n",
            "Epoch 13/30\n",
            "200/200 [==============================] - 10s 47ms/step - d_loss: 2.8800e-14 - g_loss: 1.3696e-32\n",
            "Epoch 14/30\n",
            "200/200 [==============================] - 9s 47ms/step - d_loss: 3.2071e-14 - g_loss: 1.2191e-32\n",
            "Epoch 15/30\n",
            "200/200 [==============================] - 10s 48ms/step - d_loss: 2.3195e-14 - g_loss: 1.1333e-32\n",
            "Epoch 16/30\n",
            "200/200 [==============================] - 10s 47ms/step - d_loss: 2.0246e-14 - g_loss: 1.0459e-32\n",
            "Epoch 17/30\n",
            "200/200 [==============================] - 9s 47ms/step - d_loss: 2.0770e-14 - g_loss: 9.8288e-33\n",
            "Epoch 18/30\n",
            "200/200 [==============================] - 10s 48ms/step - d_loss: 2.1073e-14 - g_loss: 9.1689e-33\n",
            "Epoch 19/30\n",
            "200/200 [==============================] - 10s 48ms/step - d_loss: 1.7976e-14 - g_loss: 8.6309e-33\n",
            "Epoch 20/30\n",
            "200/200 [==============================] - 10s 48ms/step - d_loss: 1.6415e-14 - g_loss: 8.1322e-33\n",
            "Epoch 21/30\n",
            "200/200 [==============================] - 10s 48ms/step - d_loss: 1.7249e-14 - g_loss: 7.6965e-33\n",
            "Epoch 22/30\n",
            "200/200 [==============================] - 10s 48ms/step - d_loss: 1.6698e-14 - g_loss: 7.2176e-33\n",
            "Epoch 23/30\n",
            "200/200 [==============================] - 10s 48ms/step - d_loss: 1.3798e-14 - g_loss: 6.8987e-33\n",
            "Epoch 24/30\n",
            "200/200 [==============================] - 10s 48ms/step - d_loss: 1.4669e-14 - g_loss: 6.5502e-33\n",
            "Epoch 25/30\n",
            "200/200 [==============================] - 10s 48ms/step - d_loss: 1.3448e-14 - g_loss: 6.3096e-33\n",
            "Epoch 26/30\n",
            "200/200 [==============================] - 10s 48ms/step - d_loss: 1.3004e-14 - g_loss: 6.0090e-33\n",
            "Epoch 27/30\n",
            "200/200 [==============================] - 9s 47ms/step - d_loss: 1.2184e-14 - g_loss: 5.7500e-33\n",
            "Epoch 28/30\n",
            "200/200 [==============================] - 9s 47ms/step - d_loss: 1.5548e-14 - g_loss: 5.5420e-33\n",
            "Epoch 29/30\n",
            "200/200 [==============================] - 10s 48ms/step - d_loss: 1.1124e-14 - g_loss: 5.2682e-33\n",
            "Epoch 30/30\n",
            "200/200 [==============================] - 10s 48ms/step - d_loss: 1.3082e-14 - g_loss: 5.0531e-33\n"
          ]
        }
      ]
    },
    {
      "cell_type": "code",
      "source": [
        "imgs = generator.predict(np.random.randn(5 , 100 , 1))"
      ],
      "metadata": {
        "id": "boLX7oCvR1hw"
      },
      "execution_count": 82,
      "outputs": []
    },
    {
      "cell_type": "code",
      "source": [
        "show2(imgs)"
      ],
      "metadata": {
        "colab": {
          "base_uri": "https://localhost:8080/",
          "height": 160
        },
        "id": "4GSR5kjIR1az",
        "outputId": "ed4e4283-bbff-41cf-a6b3-0d204b763068"
      },
      "execution_count": 84,
      "outputs": [
        {
          "output_type": "display_data",
          "data": {
            "text/plain": [
              "<Figure size 720x720 with 5 Axes>"
            ],
            "image/png": "[encoded data removed]"
          },
          "metadata": {
            "needs_background": "light"
          }
        }
      ]
    },
    {
      "cell_type": "code",
      "source": [],
      "metadata": {
        "id": "eQM6K6snR1k1"
      },
      "execution_count": 81,
      "outputs": []
    },
    {
      "cell_type": "code",
      "source": [],
      "metadata": {
        "id": "Tp3UoQ25R1nI"
      },
      "execution_count": 81,
      "outputs": []
    },
    {
      "cell_type": "code",
      "source": [],
      "metadata": {
        "id": "Mtb0oOdhmQIi"
      },
      "execution_count": 81,
      "outputs": []
    },
    {
      "cell_type": "code",
      "source": [],
      "metadata": {
        "id": "OF8GzpbbmQK2"
      },
      "execution_count": 81,
      "outputs": []
    },
    {
      "cell_type": "code",
      "source": [],
      "metadata": {
        "id": "4XKaw6_4mQOa"
      },
      "execution_count": 81,
      "outputs": []
    }
  ]
}