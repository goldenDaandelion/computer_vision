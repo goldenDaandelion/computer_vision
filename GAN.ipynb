{
  "cells": [
    {
      "cell_type": "code",
      "execution_count": 859,
      "metadata": {
        "colab": {
          "base_uri": "https://localhost:8080/",
          "height": 35
        },
        "id": "c319ANGmifE4",
        "outputId": "14d47323-edfc-4621-e8c2-a27a96c7932a"
      },
      "outputs": [
        {
          "output_type": "execute_result",
          "data": {
            "text/plain": [
              "'2.8.2'"
            ],
            "application/vnd.google.colaboratory.intrinsic+json": {
              "type": "string"
            }
          },
          "metadata": {},
          "execution_count": 859
        }
      ],
      "source": [
        "import tensorflow as tf\n",
        "# tf.enable_eager_execution()\n",
        "tf.__version__"
      ]
    },
    {
      "cell_type": "code",
      "execution_count": 860,
      "metadata": {
        "id": "H-lbFrfpii3z"
      },
      "outputs": [],
      "source": [
        "import tensorflow_datasets as tfds\n",
        "import numpy as np\n",
        "from matplotlib import pyplot as plt"
      ]
    },
    {
      "cell_type": "code",
      "execution_count": 861,
      "metadata": {
        "id": "80kUJxdmii7N"
      },
      "outputs": [],
      "source": [
        "(train_images, _), (_, _) = tf.keras.datasets.mnist.load_data()\n",
        "train_images = train_images / 255\n",
        "ds = tf.data.Dataset.from_tensor_slices(train_images).shuffle(60000).batch(300)"
      ]
    },
    {
      "cell_type": "code",
      "execution_count": 862,
      "metadata": {
        "id": "Hqzmp2m_ijBh"
      },
      "outputs": [],
      "source": [
        "def show(df):\n",
        "  fig, ax = plt.subplots(ncols = 5, figsize = (10,10))\n",
        "  for idx in range(5): \n",
        "      sample = df[idx]\n",
        "      ax[idx].imshow(sample)\n",
        "      ax[idx].title.set_text(idx)"
      ]
    },
    {
      "cell_type": "code",
      "execution_count": 863,
      "metadata": {
        "colab": {
          "base_uri": "https://localhost:8080/",
          "height": 160
        },
        "id": "ZlVXNYQvn0vR",
        "outputId": "0bc956f5-b4be-4842-fedd-78eca2f0dccb"
      },
      "outputs": [
        {
          "output_type": "display_data",
          "data": {
            "text/plain": [
              "<Figure size 720x720 with 5 Axes>"
            ],
            "image/png": "[encoded data removed]"
          },
          "metadata": {
            "needs_background": "light"
          }
        }
      ],
      "source": [
        "show(train_images)"
      ]
    },
    {
      "cell_type": "code",
      "execution_count": 864,
      "metadata": {
        "id": "r6ZieLxvijXp"
      },
      "outputs": [],
      "source": [
        "from tensorflow.keras.models import Sequential\n",
        "from tensorflow.keras.layers import Conv2D, Dense, Flatten, Reshape, LeakyReLU, Dropout, UpSampling2D , BatchNormalization , Conv2DTranspose\n",
        "import tensorflow as tf\n",
        "def generator():\n",
        "    model = tf.keras.Sequential()\n",
        "    model.add(Dense(7*7*256, use_bias=False, input_shape=(200,)))\n",
        "    model.add(BatchNormalization())\n",
        "    model.add(LeakyReLU())\n",
        "\n",
        "    model.add(Reshape((7,7, 256)))\n",
        "    assert model.output_shape == (None, 7,7, 256)  # Note: None is the batch size\n",
        "    model.add(Conv2DTranspose(64, (5, 5), padding='same', use_bias=False))\n",
        "    assert model.output_shape == (None, 7,7, 64)\n",
        "    model.add(BatchNormalization())\n",
        "    model.add(LeakyReLU())\n",
        "    model.add(Conv2DTranspose(64, (5, 5), strides=(2 , 2) ,  padding='same', use_bias=False))\n",
        "    assert model.output_shape == (None, 14,14 , 64)\n",
        "    model.add(BatchNormalization())\n",
        "    model.add(LeakyReLU())\n",
        "    model.add(Conv2D(64, (5, 5), padding='same', use_bias=False))\n",
        "    assert model.output_shape == (None, 14,14, 64)\n",
        "    model.add(BatchNormalization())\n",
        "    model.add(LeakyReLU())\n",
        "    model.add(Conv2DTranspose(64, (5, 5), strides=(2 , 2) ,  padding='same', use_bias=False))\n",
        "    assert model.output_shape == (None, 28,28 , 64)\n",
        "    model.add(BatchNormalization())\n",
        "    model.add(LeakyReLU())\n",
        "\n",
        "    model.add(Conv2DTranspose(1, (3,3), padding='same', use_bias=False, activation='sigmoid'))\n",
        "    assert model.output_shape == (None, 28,28, 1)\n",
        "    return model"
      ]
    },
    {
      "cell_type": "code",
      "execution_count": 865,
      "metadata": {
        "colab": {
          "base_uri": "https://localhost:8080/"
        },
        "id": "j86YAe9RmQDf",
        "outputId": "0c8746c4-cfa7-4ba1-da3f-c76af8a40025"
      },
      "outputs": [
        {
          "output_type": "stream",
          "name": "stdout",
          "text": [
            "Model: \"sequential_99\"\n",
            "_________________________________________________________________\n",
            " Layer (type)                Output Shape              Param #   \n",
            "=================================================================\n",
            " dense_98 (Dense)            (None, 12544)             2508800   \n",
            "                                                                 \n",
            " batch_normalization_217 (Ba  (None, 12544)            50176     \n",
            " tchNormalization)                                               \n",
            "                                                                 \n",
            " leaky_re_lu_291 (LeakyReLU)  (None, 12544)            0         \n",
            "                                                                 \n",
            " reshape_51 (Reshape)        (None, 7, 7, 256)         0         \n",
            "                                                                 \n",
            " conv2d_transpose_105 (Conv2  (None, 7, 7, 64)         409600    \n",
            " DTranspose)                                                     \n",
            "                                                                 \n",
            " batch_normalization_218 (Ba  (None, 7, 7, 64)         256       \n",
            " tchNormalization)                                               \n",
            "                                                                 \n",
            " leaky_re_lu_292 (LeakyReLU)  (None, 7, 7, 64)         0         \n",
            "                                                                 \n",
            " conv2d_transpose_106 (Conv2  (None, 14, 14, 64)       102400    \n",
            " DTranspose)                                                     \n",
            "                                                                 \n",
            " batch_normalization_219 (Ba  (None, 14, 14, 64)       256       \n",
            " tchNormalization)                                               \n",
            "                                                                 \n",
            " leaky_re_lu_293 (LeakyReLU)  (None, 14, 14, 64)       0         \n",
            "                                                                 \n",
            " conv2d_197 (Conv2D)         (None, 14, 14, 64)        102400    \n",
            "                                                                 \n",
            " batch_normalization_220 (Ba  (None, 14, 14, 64)       256       \n",
            " tchNormalization)                                               \n",
            "                                                                 \n",
            " leaky_re_lu_294 (LeakyReLU)  (None, 14, 14, 64)       0         \n",
            "                                                                 \n",
            " conv2d_transpose_107 (Conv2  (None, 28, 28, 64)       102400    \n",
            " DTranspose)                                                     \n",
            "                                                                 \n",
            " batch_normalization_221 (Ba  (None, 28, 28, 64)       256       \n",
            " tchNormalization)                                               \n",
            "                                                                 \n",
            " leaky_re_lu_295 (LeakyReLU)  (None, 28, 28, 64)       0         \n",
            "                                                                 \n",
            " conv2d_transpose_108 (Conv2  (None, 28, 28, 1)        576       \n",
            " DTranspose)                                                     \n",
            "                                                                 \n",
            "=================================================================\n",
            "Total params: 3,277,376\n",
            "Trainable params: 3,251,776\n",
            "Non-trainable params: 25,600\n",
            "_________________________________________________________________\n"
          ]
        }
      ],
      "source": [
        "generator = generator()\n",
        "generator.summary()"
      ]
    },
    {
      "cell_type": "code",
      "execution_count": 866,
      "metadata": {
        "id": "fkdFBeUSmQF5"
      },
      "outputs": [],
      "source": [
        "generated_image = generator.predict(np.random.randn(5 , 200 , 1))"
      ]
    },
    {
      "cell_type": "code",
      "execution_count": 867,
      "metadata": {
        "id": "yTg_VgMDox7e"
      },
      "outputs": [],
      "source": [
        "def show2(df):\n",
        "  fig, ax = plt.subplots(ncols = 5, figsize = (10,10))\n",
        "  for idx, img in enumerate(df): \n",
        "      ax[idx].imshow(np.squeeze(img)) \n",
        "      ax[idx].title.set_text(idx)"
      ]
    },
    {
      "cell_type": "code",
      "execution_count": 868,
      "metadata": {
        "colab": {
          "base_uri": "https://localhost:8080/",
          "height": 160
        },
        "id": "n2GWCcxzpM4v",
        "outputId": "67670b6a-debd-44f5-a593-27d565b54115"
      },
      "outputs": [
        {
          "output_type": "display_data",
          "data": {
            "text/plain": [
              "<Figure size 720x720 with 5 Axes>"
            ],
            "image/png": "[encoded data removed]"
          },
          "metadata": {
            "needs_background": "light"
          }
        }
      ],
      "source": [
        "show2(generated_image)"
      ]
    },
    {
      "cell_type": "code",
      "execution_count": 876,
      "metadata": {
        "id": "QHVrf6zvphdq"
      },
      "outputs": [],
      "source": [
        "def discriminator():\n",
        "    model = tf.keras.Sequential()\n",
        "    model.add(Conv2D(128, (3,3), padding='same',\n",
        "                                     input_shape=[28, 28 , 1]))\n",
        "    model.add(BatchNormalization())\n",
        "    model.add(LeakyReLU())\n",
        "    model.add(Dropout(0.4))\n",
        "    model.add(Conv2D(128, (3,3), padding='same'))\n",
        "    model.add(BatchNormalization())\n",
        "    model.add(LeakyReLU())\n",
        "    model.add(Flatten())\n",
        "    model.add(Dense(50))\n",
        "    model.add(BatchNormalization())\n",
        "    model.add(Dropout(0.4))\n",
        "    model.add(Dense(1 , activation = 'sigmoid'))\n",
        "    return model"
      ]
    },
    {
      "cell_type": "code",
      "execution_count": 877,
      "metadata": {
        "colab": {
          "base_uri": "https://localhost:8080/"
        },
        "id": "OrkBKP09qL-Z",
        "outputId": "acba49c1-deca-43fb-995a-a3c4e8304afc"
      },
      "outputs": [
        {
          "output_type": "stream",
          "name": "stdout",
          "text": [
            "Model: \"sequential_106\"\n",
            "_________________________________________________________________\n",
            " Layer (type)                Output Shape              Param #   \n",
            "=================================================================\n",
            " conv2d_204 (Conv2D)         (None, 28, 28, 128)       1280      \n",
            "                                                                 \n",
            " batch_normalization_231 (Ba  (None, 28, 28, 128)      512       \n",
            " tchNormalization)                                               \n",
            "                                                                 \n",
            " leaky_re_lu_302 (LeakyReLU)  (None, 28, 28, 128)      0         \n",
            "                                                                 \n",
            " dropout_78 (Dropout)        (None, 28, 28, 128)       0         \n",
            "                                                                 \n",
            " conv2d_205 (Conv2D)         (None, 28, 28, 128)       147584    \n",
            "                                                                 \n",
            " batch_normalization_232 (Ba  (None, 28, 28, 128)      512       \n",
            " tchNormalization)                                               \n",
            "                                                                 \n",
            " leaky_re_lu_303 (LeakyReLU)  (None, 28, 28, 128)      0         \n",
            "                                                                 \n",
            " flatten_45 (Flatten)        (None, 100352)            0         \n",
            "                                                                 \n",
            " dense_105 (Dense)           (None, 50)                5017650   \n",
            "                                                                 \n",
            " batch_normalization_233 (Ba  (None, 50)               200       \n",
            " tchNormalization)                                               \n",
            "                                                                 \n",
            " dropout_79 (Dropout)        (None, 50)                0         \n",
            "                                                                 \n",
            " dense_106 (Dense)           (None, 1)                 51        \n",
            "                                                                 \n",
            "=================================================================\n",
            "Total params: 5,167,789\n",
            "Trainable params: 5,167,177\n",
            "Non-trainable params: 612\n",
            "_________________________________________________________________\n"
          ]
        }
      ],
      "source": [
        "discriminator = discriminator()\n",
        "discriminator.summary()"
      ]
    },
    {
      "cell_type": "code",
      "execution_count": 878,
      "metadata": {
        "colab": {
          "base_uri": "https://localhost:8080/"
        },
        "id": "2t7auSRfqMBL",
        "outputId": "69cb6ffa-eb4b-4bdc-8f48-60ce25b1a933"
      },
      "outputs": [
        {
          "output_type": "stream",
          "name": "stdout",
          "text": [
            "tf.Tensor(\n",
            "[[0.5057371 ]\n",
            " [0.50584084]\n",
            " [0.50567645]\n",
            " [0.50574857]\n",
            " [0.50594527]], shape=(5, 1), dtype=float32)\n"
          ]
        }
      ],
      "source": [
        "decision = discriminator(generated_image)\n",
        "print (decision)"
      ]
    },
    {
      "cell_type": "code",
      "execution_count": 879,
      "metadata": {
        "id": "wrrelkzKqMEF"
      },
      "outputs": [],
      "source": [
        "loss = tf.keras.losses.BinaryCrossentropy()\n",
        "\n",
        "g_opt = tf.keras.optimizers.Adam(0.0001)\n",
        "d_opt = tf.keras.optimizers.Adam(0.00001)"
      ]
    },
    {
      "cell_type": "code",
      "execution_count": 880,
      "metadata": {
        "id": "bx6GtZBGqMHF"
      },
      "outputs": [],
      "source": [
        "from tensorflow.keras.models import Model\n",
        "class customized(Model): \n",
        "    def __init__(self, generator, discriminator, *args, **kwargs):\n",
        "        super().__init__(*args, **kwargs)\n",
        "        self.generator = generator \n",
        "        self.discriminator = discriminator \n",
        "        \n",
        "    def compile(self, g_opt, d_opt, loss, *args, **kwargs): \n",
        "        super().compile(*args, **kwargs)\n",
        "        self.g_opt = g_opt\n",
        "        self.d_opt = d_opt\n",
        "        self.loss = loss\n",
        "\n",
        "    def train_step(self, batch):\n",
        "        real_images = batch\n",
        "        fake_images = self.generator(tf.random.normal((1 , 200)), training = False)\n",
        "        \n",
        "\n",
        "        with tf.GradientTape() as d_tape: \n",
        "            yhat_real = self.discriminator(real_images, training = True) \n",
        "            yhat_fake = self.discriminator(fake_images, training = True)\n",
        "            yhat_realfake = tf.concat([yhat_real, yhat_fake], axis=0)\n",
        "            \n",
        "    \n",
        "            y_realfake = tf.concat([tf.zeros_like(yhat_real), tf.ones_like(yhat_fake)], axis=0)\n",
        "            noise_real = 0.15*tf.random.uniform(tf.shape(yhat_real))\n",
        "            noise_fake = -0.15*tf.random.uniform(tf.shape(yhat_fake))\n",
        "            y_realfake += tf.concat([noise_real, noise_fake], axis=0)\n",
        "            total_d_loss = self.loss(y_realfake, yhat_realfake)\n",
        "            \n",
        "        dgrad = d_tape.gradient(total_d_loss, self.discriminator.trainable_variables) \n",
        "        self.d_opt.apply_gradients(zip(dgrad, self.discriminator.trainable_variables))\n",
        "        \n",
        " \n",
        "        with tf.GradientTape() as g_tape: \n",
        "            gen_images = self.generator(tf.random.normal((1 , 200)), training = True)\n",
        "            predicted_labels = self.discriminator(gen_images, training = False)\n",
        "                                        \n",
        "            total_g_loss = self.loss(tf.zeros_like(predicted_labels), predicted_labels) \n",
        "            \n",
        "        ggrad = g_tape.gradient(total_g_loss, self.generator.trainable_variables)\n",
        "        self.g_opt.apply_gradients(zip(ggrad, self.generator.trainable_variables))\n",
        "        \n",
        "        return {\"d_loss\":total_d_loss, \"g_loss\":total_g_loss}"
      ]
    },
    {
      "cell_type": "code",
      "execution_count": 881,
      "metadata": {
        "id": "X4RDB4KKqMJ9"
      },
      "outputs": [],
      "source": [
        "fashgan = customized(generator, discriminator)"
      ]
    },
    {
      "cell_type": "code",
      "execution_count": 882,
      "metadata": {
        "id": "zmEJht6SqML0"
      },
      "outputs": [],
      "source": [
        "fashgan.compile(g_opt, d_opt, loss)"
      ]
    },
    {
      "cell_type": "code",
      "execution_count": 887,
      "metadata": {
        "colab": {
          "base_uri": "https://localhost:8080/"
        },
        "id": "KUAi7YnVqMPW",
        "outputId": "726d6eae-47a6-4345-ac62-fd7b2e9a178a"
      },
      "outputs": [
        {
          "output_type": "stream",
          "name": "stdout",
          "text": [
            "Epoch 1/50\n",
            "200/200 [==============================] - 14s 70ms/step - d_loss: 0.7860 - g_loss: 9.0097e-05\n",
            "Epoch 2/50\n",
            "200/200 [==============================] - 14s 69ms/step - d_loss: 0.7833 - g_loss: 1.9815e-04\n",
            "Epoch 3/50\n",
            "200/200 [==============================] - 14s 69ms/step - d_loss: 0.7714 - g_loss: 3.7412e-04\n",
            "Epoch 4/50\n",
            "200/200 [==============================] - 14s 69ms/step - d_loss: 0.7592 - g_loss: 6.3461e-04\n",
            "Epoch 5/50\n",
            "200/200 [==============================] - 14s 70ms/step - d_loss: 0.7522 - g_loss: 8.8985e-04\n",
            "Epoch 6/50\n",
            "200/200 [==============================] - 14s 69ms/step - d_loss: 0.7387 - g_loss: 0.0013\n",
            "Epoch 7/50\n",
            "200/200 [==============================] - 14s 70ms/step - d_loss: 0.7327 - g_loss: 0.0015\n",
            "Epoch 8/50\n",
            "200/200 [==============================] - 14s 70ms/step - d_loss: 0.7257 - g_loss: 0.0019\n",
            "Epoch 9/50\n",
            "200/200 [==============================] - 14s 70ms/step - d_loss: 0.7171 - g_loss: 0.0026\n",
            "Epoch 10/50\n",
            "200/200 [==============================] - 14s 70ms/step - d_loss: 0.7104 - g_loss: 0.0032\n",
            "Epoch 11/50\n",
            "200/200 [==============================] - 14s 70ms/step - d_loss: 0.6999 - g_loss: 0.0039\n",
            "Epoch 12/50\n",
            "200/200 [==============================] - 14s 70ms/step - d_loss: 0.6897 - g_loss: 0.0041\n",
            "Epoch 13/50\n",
            "200/200 [==============================] - 14s 70ms/step - d_loss: 0.6823 - g_loss: 0.0043\n",
            "Epoch 14/50\n",
            "200/200 [==============================] - 14s 70ms/step - d_loss: 0.6790 - g_loss: 0.0055\n",
            "Epoch 15/50\n",
            "200/200 [==============================] - 14s 70ms/step - d_loss: 0.6700 - g_loss: 0.0055\n",
            "Epoch 16/50\n",
            "200/200 [==============================] - 14s 70ms/step - d_loss: 0.6658 - g_loss: 0.0055\n",
            "Epoch 17/50\n",
            "200/200 [==============================] - 14s 70ms/step - d_loss: 0.6535 - g_loss: 0.0063\n",
            "Epoch 18/50\n",
            "200/200 [==============================] - 14s 71ms/step - d_loss: 0.6489 - g_loss: 0.0071\n",
            "Epoch 19/50\n",
            "200/200 [==============================] - 14s 70ms/step - d_loss: 0.6404 - g_loss: 0.0071\n",
            "Epoch 20/50\n",
            "200/200 [==============================] - 14s 71ms/step - d_loss: 0.6360 - g_loss: 0.0076\n",
            "Epoch 21/50\n",
            "200/200 [==============================] - 14s 70ms/step - d_loss: 0.6272 - g_loss: 0.0078\n",
            "Epoch 22/50\n",
            "200/200 [==============================] - 14s 71ms/step - d_loss: 0.6237 - g_loss: 0.0079\n",
            "Epoch 23/50\n",
            "200/200 [==============================] - 14s 71ms/step - d_loss: 0.6188 - g_loss: 0.0071\n",
            "Epoch 24/50\n",
            "200/200 [==============================] - 14s 71ms/step - d_loss: 0.6104 - g_loss: 0.0079\n",
            "Epoch 25/50\n",
            "200/200 [==============================] - 14s 71ms/step - d_loss: 0.6034 - g_loss: 0.0101\n",
            "Epoch 26/50\n",
            "200/200 [==============================] - 14s 70ms/step - d_loss: 0.5982 - g_loss: 0.0090\n",
            "Epoch 27/50\n",
            "200/200 [==============================] - 14s 70ms/step - d_loss: 0.5933 - g_loss: 0.0085\n",
            "Epoch 28/50\n",
            "200/200 [==============================] - 14s 70ms/step - d_loss: 0.5876 - g_loss: 0.0082\n",
            "Epoch 29/50\n",
            "200/200 [==============================] - 14s 70ms/step - d_loss: 0.5817 - g_loss: 0.0078\n",
            "Epoch 30/50\n",
            "200/200 [==============================] - 14s 71ms/step - d_loss: 0.5760 - g_loss: 0.0087\n",
            "Epoch 31/50\n",
            "200/200 [==============================] - 14s 71ms/step - d_loss: 0.5690 - g_loss: 0.0073\n",
            "Epoch 32/50\n",
            "200/200 [==============================] - 14s 71ms/step - d_loss: 0.5668 - g_loss: 0.0066\n",
            "Epoch 33/50\n",
            "200/200 [==============================] - 14s 71ms/step - d_loss: 0.5574 - g_loss: 0.0069\n",
            "Epoch 34/50\n",
            "200/200 [==============================] - 14s 71ms/step - d_loss: 0.5536 - g_loss: 0.0070\n",
            "Epoch 35/50\n",
            "200/200 [==============================] - 14s 71ms/step - d_loss: 0.5507 - g_loss: 0.0058\n",
            "Epoch 36/50\n",
            "200/200 [==============================] - 14s 70ms/step - d_loss: 0.5438 - g_loss: 0.0061\n",
            "Epoch 37/50\n",
            "200/200 [==============================] - 14s 70ms/step - d_loss: 0.5353 - g_loss: 0.0045\n",
            "Epoch 38/50\n",
            "200/200 [==============================] - 14s 70ms/step - d_loss: 0.5312 - g_loss: 0.0054\n",
            "Epoch 39/50\n",
            "200/200 [==============================] - 14s 70ms/step - d_loss: 0.5259 - g_loss: 0.0049\n",
            "Epoch 40/50\n",
            "200/200 [==============================] - 14s 71ms/step - d_loss: 0.5221 - g_loss: 0.0043\n",
            "Epoch 41/50\n",
            "200/200 [==============================] - 14s 70ms/step - d_loss: 0.5159 - g_loss: 0.0040\n",
            "Epoch 42/50\n",
            "200/200 [==============================] - 14s 70ms/step - d_loss: 0.5104 - g_loss: 0.0041\n",
            "Epoch 43/50\n",
            "200/200 [==============================] - 14s 71ms/step - d_loss: 0.5090 - g_loss: 0.0037\n",
            "Epoch 44/50\n",
            "200/200 [==============================] - 14s 70ms/step - d_loss: 0.5009 - g_loss: 0.0028\n",
            "Epoch 45/50\n",
            "200/200 [==============================] - 14s 71ms/step - d_loss: 0.4947 - g_loss: 0.0030\n",
            "Epoch 46/50\n",
            "200/200 [==============================] - 14s 70ms/step - d_loss: 0.4881 - g_loss: 0.0029\n",
            "Epoch 47/50\n",
            "200/200 [==============================] - 14s 71ms/step - d_loss: 0.4827 - g_loss: 0.0027\n",
            "Epoch 48/50\n",
            "200/200 [==============================] - 14s 70ms/step - d_loss: 0.4804 - g_loss: 0.0020\n",
            "Epoch 49/50\n",
            "200/200 [==============================] - 14s 70ms/step - d_loss: 0.4766 - g_loss: 0.0021\n",
            "Epoch 50/50\n",
            "200/200 [==============================] - 14s 70ms/step - d_loss: 0.4702 - g_loss: 0.0017\n"
          ]
        }
      ],
      "source": [
        "hist = fashgan.fit(ds, epochs = 50)"
      ]
    },
    {
      "cell_type": "code",
      "execution_count": 888,
      "metadata": {
        "id": "boLX7oCvR1hw"
      },
      "outputs": [],
      "source": [
        "imgs = generator.predict(np.random.randn(5 , 200 , 1))"
      ]
    },
    {
      "cell_type": "code",
      "execution_count": 889,
      "metadata": {
        "colab": {
          "base_uri": "https://localhost:8080/",
          "height": 160
        },
        "id": "4GSR5kjIR1az",
        "outputId": "d6d1969b-d2c3-4060-c7f7-9e9c15c4dea7"
      },
      "outputs": [
        {
          "output_type": "display_data",
          "data": {
            "text/plain": [
              "<Figure size 720x720 with 5 Axes>"
            ],
            "image/png": "[encoded data removed]"
          },
          "metadata": {
            "needs_background": "light"
          }
        }
      ],
      "source": [
        "show2(imgs)"
      ]
    },
    {
      "cell_type": "code",
      "execution_count": 890,
      "metadata": {
        "colab": {
          "base_uri": "https://localhost:8080/"
        },
        "id": "eQM6K6snR1k1",
        "outputId": "f1f8e9e1-5e80-46bb-977b-dc7c5e2c6b04"
      },
      "outputs": [
        {
          "output_type": "stream",
          "name": "stdout",
          "text": [
            "tf.Tensor(\n",
            "[[0.3547443 ]\n",
            " [0.22249019]\n",
            " [0.13723792]\n",
            " [0.17262019]\n",
            " [0.2995706 ]], shape=(5, 1), dtype=float32)\n"
          ]
        }
      ],
      "source": [
        "decision = discriminator(imgs)\n",
        "print (decision)"
      ]
    },
    {
      "cell_type": "code",
      "execution_count": null,
      "metadata": {
        "id": "Tp3UoQ25R1nI"
      },
      "outputs": [],
      "source": []
    },
    {
      "cell_type": "code",
      "execution_count": null,
      "metadata": {
        "id": "Mtb0oOdhmQIi"
      },
      "outputs": [],
      "source": []
    },
    {
      "cell_type": "code",
      "execution_count": null,
      "metadata": {
        "id": "OF8GzpbbmQK2"
      },
      "outputs": [],
      "source": []
    },
    {
      "cell_type": "code",
      "execution_count": null,
      "metadata": {
        "id": "4XKaw6_4mQOa"
      },
      "outputs": [],
      "source": []
    }
  ],
  "metadata": {
    "accelerator": "GPU",
    "colab": {
      "collapsed_sections": [],
      "provenance": [],
      "authorship_tag": "ABX9TyMDAZwgB3ThRotRZMUmy+zL"
    },
    "kernelspec": {
      "display_name": "Python 3",
      "name": "python3"
    },
    "language_info": {
      "name": "python"
    }
  },
  "nbformat": 4,
  "nbformat_minor": 0
}